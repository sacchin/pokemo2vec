{
 "cells": [
  {
   "cell_type": "code",
   "execution_count": 3,
   "metadata": {},
   "outputs": [
    {
     "name": "stderr",
     "output_type": "stream",
     "text": [
      "2017-09-20 10:57:47,469 : INFO\n",
      "2017-09-20 10:57:47,474 : INFO\n",
      "2017-09-20 10:57:47,577 : INFO\n",
      "2017-09-20 10:57:47,578 : INFO\n",
      "2017-09-20 10:57:47,593 : INFO\n",
      "2017-09-20 10:57:47,594 : INFO\n",
      "2017-09-20 10:57:47,610 : INFO\n",
      "2017-09-20 10:57:47,612 : INFO\n",
      "2017-09-20 10:57:47,614 : INFO\n",
      "2017-09-20 10:57:47,616 : INFO\n",
      "2017-09-20 10:57:47,638 : INFO\n",
      "2017-09-20 10:57:47,701 : INFO\n",
      "2017-09-20 10:57:48,713 : INFO\n",
      "2017-09-20 10:57:49,732 : INFO\n",
      "2017-09-20 10:57:50,769 : INFO\n",
      "2017-09-20 10:57:50,809 : INFO\n",
      "2017-09-20 10:57:50,823 : INFO\n",
      "2017-09-20 10:57:50,848 : INFO\n",
      "2017-09-20 10:57:50,849 : INFO\n",
      "2017-09-20 10:57:50,850 : INFO\n",
      "2017-09-20 10:57:50,852 : INFO\n",
      "2017-09-20 10:57:50,853 : INFO\n",
      "2017-09-20 10:57:50,937 : INFO\n"
     ]
    },
    {
     "name": "stdout",
     "output_type": "stream",
     "text": [
      "Finish!\n"
     ]
    }
   ],
   "source": [
    "from gensim.models import word2vec\n",
    "import logging\n",
    "\n",
    "logging.basicConfig(format='%(asctime)s : %(levelname)s', level=logging.INFO)\n",
    "\n",
    "sentences = word2vec.Text8Corpus('./data/train.txt')\n",
    "model = word2vec.Word2Vec(sentences, size=300, min_count=5, window=30)\n",
    "model.save(\"sample.model\")\n",
    "print(\"Finish!\")"
   ]
  }
 ],
 "metadata": {
  "kernelspec": {
   "display_name": "Python 3",
   "language": "python",
   "name": "python3"
  },
  "language_info": {
   "codemirror_mode": {
    "name": "ipython",
    "version": 3
   },
   "file_extension": ".py",
   "mimetype": "text/x-python",
   "name": "python",
   "nbconvert_exporter": "python",
   "pygments_lexer": "ipython3",
   "version": "3.5.2"
  }
 },
 "nbformat": 4,
 "nbformat_minor": 2
}
